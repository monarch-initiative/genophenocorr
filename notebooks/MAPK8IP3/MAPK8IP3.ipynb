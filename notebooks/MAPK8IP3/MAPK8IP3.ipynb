{
 "cells": [
  {
   "cell_type": "markdown",
   "id": "80a7f636",
   "metadata": {},
   "source": [
    "<H1>MAPK8IP3 genotype phenotype correlations</H1>"
   ]
  },
  {
   "cell_type": "code",
   "execution_count": 1,
   "id": "c3b3b7e3",
   "metadata": {},
   "outputs": [
    {
     "name": "stdout",
     "output_type": "stream",
     "text": [
      "Using genophenocorr version 0.1.1dev\n"
     ]
    }
   ],
   "source": [
    "import genophenocorr\n",
    "\n",
    "print(f\"Using genophenocorr version {genophenocorr.__version__}\")"
   ]
  },
  {
   "cell_type": "markdown",
   "id": "4428cc7c",
   "metadata": {},
   "source": [
    "## Setup\n",
    "\n",
    "### Load HPO\n",
    "\n",
    "We'll need HPO for the analysis"
   ]
  },
  {
   "cell_type": "code",
   "execution_count": 2,
   "id": "8c263a53",
   "metadata": {},
   "outputs": [
    {
     "name": "stdout",
     "output_type": "stream",
     "text": [
      "Loaded HPO v2023-10-09\n"
     ]
    }
   ],
   "source": [
    "import hpotk\n",
    "\n",
    "store = hpotk.configure_ontology_store()\n",
    "hpo = store.load_minimal_hpo(release='v2023-10-09')\n",
    "print(f'Loaded HPO v{hpo.version}')"
   ]
  },
  {
   "cell_type": "markdown",
   "id": "5694f0d4",
   "metadata": {},
   "source": [
    "### Load phenopackets"
   ]
  },
  {
   "cell_type": "markdown",
   "id": "5312503b",
   "metadata": {},
   "source": [
    "Load the phenopackets located in the `phenopackets` folder."
   ]
  },
  {
   "cell_type": "code",
   "execution_count": 3,
   "id": "c9a4489e",
   "metadata": {},
   "outputs": [
    {
     "name": "stderr",
     "output_type": "stream",
     "text": [
      "Patients Created:   5%|▌         | 1/20 [00:06<02:05,  6.61s/it]Expected a result but got an Error for variant: 16_1706450_1706450_C_G\n",
      "{\"error\":\"Could not connect to database homo_sapiens_core_111_38 as user ensro using [DBI:mysql:database=homo_sapiens_core_111_38;host=fb1-mysql-ens-rest-web.ebi.ac.uk;port=4571] as a locator:DBI connect('database=homo_sapiens_core_111_38;host=fb1-mysql-ens-rest-web.ebi.ac.uk;port=4571','ensro',...) failed: Can't connect to MySQL server on 'fb1-mysql-ens-rest-web.ebi.ac.uk' (111) at /nfs/public/ro/ensweb/live/rest/www_111/ensembl/modules/Bio/EnsEMBL/DBSQL/DBConnection.pm line 260.\"}\n",
      "Patients Created: 100%|██████████| 20/20 [00:09<00:00,  2.01it/s]\n",
      "Validated under none policy\n",
      "Showing errors and warnings\n",
      "20 phenopacket(s) found at `phenopackets`\n",
      "  patient #0\n",
      "    phenotype-features\n",
      "     warnings:\n",
      "     ·No diseases found.\n",
      "  patient #1\n",
      "    phenotype-features\n",
      "     warnings:\n",
      "     ·No diseases found.\n",
      "    variants\n",
      "     warnings:\n",
      "     ·Patient PMID_30612693_3 has an error with variant 16_1706450_1706450_C_G. Try again or remove variant form testing\n",
      "     ·Patient PMID_30612693_3 has no variants to work with\n",
      "  patient #2\n",
      "    phenotype-features\n",
      "     warnings:\n",
      "     ·No diseases found.\n",
      "  patient #3\n",
      "    phenotype-features\n",
      "     warnings:\n",
      "     ·No diseases found.\n",
      "  patient #4\n",
      "    phenotype-features\n",
      "     errors:\n",
      "     Terms should not contain both present Delayed ability to roll over [HP:0032989] and its present or excluded ancestor Motor delay [HP:0001270]\n",
      "     Terms should not contain both present Delayed ability to walk [HP:0031936] and its present or excluded ancestor Motor delay [HP:0001270]\n",
      "     warnings:\n",
      "     ·No diseases found.\n",
      "  patient #5\n",
      "    phenotype-features\n",
      "     warnings:\n",
      "     ·No diseases found.\n",
      "  patient #6\n",
      "    phenotype-features\n",
      "     errors:\n",
      "     Terms should not contain both present Unsteady gait [HP:0002317] and its present or excluded ancestor Abnormality of movement [HP:0100022]\n",
      "     warnings:\n",
      "     ·No diseases found.\n",
      "  patient #7\n",
      "    phenotype-features\n",
      "     warnings:\n",
      "     ·No diseases found.\n",
      "  patient #8\n",
      "    phenotype-features\n",
      "     errors:\n",
      "     Terms should not contain both present Delayed ability to walk [HP:0031936] and its present or excluded ancestor Motor delay [HP:0001270]\n",
      "     warnings:\n",
      "     ·No diseases found.\n",
      "  patient #9\n",
      "    phenotype-features\n",
      "     warnings:\n",
      "     ·No diseases found.\n",
      "  patient #10\n",
      "    phenotype-features\n",
      "     errors:\n",
      "     Terms should not contain both present Persistent head lag [HP:0032988] and its present or excluded ancestor Motor delay [HP:0001270]\n",
      "     Terms should not contain both present Delayed ability to sit [HP:0025336] and its present or excluded ancestor Delayed gross motor development [HP:0002194]\n",
      "     Terms should not contain both present Delayed ability to sit [HP:0025336] and its present or excluded ancestor Motor delay [HP:0001270]\n",
      "     Terms should not contain both present Delayed ability to walk [HP:0031936] and its present or excluded ancestor Delayed gross motor development [HP:0002194]\n",
      "     Terms should not contain both present Delayed ability to walk [HP:0031936] and its present or excluded ancestor Motor delay [HP:0001270]\n",
      "     Terms should not contain both present Delayed gross motor development [HP:0002194] and its present or excluded ancestor Motor delay [HP:0001270]\n",
      "     Terms should not contain both present Delayed ability to roll over [HP:0032989] and its present or excluded ancestor Delayed gross motor development [HP:0002194]\n",
      "     Terms should not contain both present Delayed ability to roll over [HP:0032989] and its present or excluded ancestor Motor delay [HP:0001270]\n",
      "     warnings:\n",
      "     ·No diseases found.\n",
      "  patient #11\n",
      "    phenotype-features\n",
      "     warnings:\n",
      "     ·No diseases found.\n",
      "  patient #12\n",
      "    phenotype-features\n",
      "     errors:\n",
      "     Terms should not contain both present Delayed ability to sit [HP:0025336] and its present or excluded ancestor Motor delay [HP:0001270]\n",
      "     Terms should not contain both present Delayed ability to walk [HP:0031936] and its present or excluded ancestor Motor delay [HP:0001270]\n",
      "     Terms should not contain both present Persistent head lag [HP:0032988] and its present or excluded ancestor Motor delay [HP:0001270]\n",
      "     warnings:\n",
      "     ·No diseases found.\n",
      "  patient #13\n",
      "    phenotype-features\n",
      "     warnings:\n",
      "     ·No diseases found.\n",
      "  patient #14\n",
      "    phenotype-features\n",
      "     warnings:\n",
      "     ·No diseases found.\n",
      "  patient #15\n",
      "    phenotype-features\n",
      "     warnings:\n",
      "     ·No diseases found.\n",
      "  patient #16\n",
      "    phenotype-features\n",
      "     warnings:\n",
      "     ·No diseases found.\n",
      "  patient #17\n",
      "    phenotype-features\n",
      "     warnings:\n",
      "     ·No diseases found.\n",
      "  patient #18\n",
      "    phenotype-features\n",
      "     errors:\n",
      "     Terms should not contain both present Spasticity [HP:0001257] and its present or excluded ancestor Upper motor neuron dysfunction [HP:0002493]\n",
      "     warnings:\n",
      "     ·No diseases found.\n",
      "  patient #19\n",
      "    phenotype-features\n",
      "     errors:\n",
      "     Terms should not contain both present Delayed ability to sit [HP:0025336] and its present or excluded ancestor Motor delay [HP:0001270]\n",
      "     Terms should not contain both present Delayed ability to walk [HP:0031936] and its present or excluded ancestor Motor delay [HP:0001270]\n",
      "     warnings:\n",
      "     ·No diseases found.\n"
     ]
    }
   ],
   "source": [
    "from genophenocorr.preprocessing import configure_caching_cohort_creator, load_phenopacket_folder\n",
    "\n",
    "fpath_phenopackets = 'phenopackets'\n",
    "cohort_creator = configure_caching_cohort_creator(hpo)\n",
    "cohort = load_phenopacket_folder(fpath_phenopackets, cohort_creator)"
   ]
  },
  {
   "cell_type": "markdown",
   "id": "021d1952",
   "metadata": {},
   "source": [
    "### Pick a transcript\n",
    "\n",
    "We use the transcript `NM_001318852.2` which is the MANE transcript of the *MAPK8IP3* gene."
   ]
  },
  {
   "cell_type": "code",
   "execution_count": 4,
   "id": "d68d06a7",
   "metadata": {},
   "outputs": [],
   "source": [
    "tx_id = 'NM_001318852.2'"
   ]
  },
  {
   "cell_type": "markdown",
   "id": "12da3ada",
   "metadata": {},
   "source": [
    "## Explore cohort\n",
    "\n",
    "Explore the cohort to guide selection of the genotype-phenotype analysis."
   ]
  },
  {
   "cell_type": "code",
   "execution_count": 5,
   "id": "959bd970",
   "metadata": {},
   "outputs": [],
   "source": [
    "from genophenocorr.view import CohortViewer\n",
    "from IPython.display import display, HTML\n",
    "\n",
    "viewer = CohortViewer(hpo=hpo)"
   ]
  },
  {
   "cell_type": "code",
   "execution_count": 6,
   "id": "edb96844-ba76-4c8c-b4b6-d90bb2d908a9",
   "metadata": {},
   "outputs": [
    {
     "data": {
      "text/html": [
       "<style>\n",
       "\n",
       "table {\n",
       "  border-collapse: collapse; \n",
       "  margin: 25px 0;\n",
       "    font-size: 0.9em;\n",
       "    font-family: sans-serif;\n",
       "    min-width: 400px;\n",
       "    box-shadow: 0 0 20px rgba(0, 0, 0, 0.15);\n",
       "}\n",
       "\n",
       "\n",
       "th {\n",
       "  background-color: #f2f2f2; \n",
       "  border: 1px solid #dddddd; \n",
       "  text-align: left;\n",
       "  padding: 2px;\n",
       "}\n",
       "\n",
       "tr {\n",
       "  border: 1px solid #dddddd; \n",
       "}\n",
       "\n",
       "td {\n",
       "  padding: 2px; \n",
       "  font-weight: bold;\n",
       "}\n",
       "\n",
       "tr:nth-child(even) {\n",
       "  background-color: #f2f2f2;\n",
       "}\n",
       "</style>\n",
       "\n",
       "<table>\n",
       "<tr><td>HPO Term</td><td>Count</td></tr>\n",
       "<caption>Counts of annotations to HPO terms for the 20 in the cohort</caption>\n",
       "<tr><td><a href=\"https://hpo.jax.org/app/browse/term/HP:0001263\">Global developmental delay (HP:0001263)</a></td><td>13</td></tr>\n",
       "<tr><td><a href=\"https://hpo.jax.org/app/browse/term/HP:0001252\">Hypotonia (HP:0001252)</a></td><td>8</td></tr>\n",
       "<tr><td><a href=\"https://hpo.jax.org/app/browse/term/HP:0002342\">Intellectual disability, moderate (HP:0002342)</a></td><td>8</td></tr>\n",
       "<tr><td><a href=\"https://hpo.jax.org/app/browse/term/HP:0010864\">Intellectual disability, severe (HP:0010864)</a></td><td>7</td></tr>\n",
       "<tr><td><a href=\"https://hpo.jax.org/app/browse/term/HP:0031936\">Delayed ability to walk (HP:0031936)</a></td><td>6</td></tr>\n",
       "<tr><td><a href=\"https://hpo.jax.org/app/browse/term/HP:0001264\">Spastic diplegia (HP:0001264)</a></td><td>6</td></tr>\n",
       "<tr><td><a href=\"https://hpo.jax.org/app/browse/term/HP:0001270\">Motor delay (HP:0001270)</a></td><td>5</td></tr>\n",
       "<tr><td><a href=\"https://hpo.jax.org/app/browse/term/HP:0000219\">Thin upper lip vermilion (HP:0000219)</a></td><td>5</td></tr>\n",
       "<tr><td><a href=\"https://hpo.jax.org/app/browse/term/HP:0033725\">Thin corpus callosum (HP:0033725)</a></td><td>5</td></tr>\n",
       "<tr><td><a href=\"https://hpo.jax.org/app/browse/term/HP:0002059\">Cerebral atrophy (HP:0002059)</a></td><td>4</td></tr>\n",
       "<tr><td><a href=\"https://hpo.jax.org/app/browse/term/HP:0000311\">Round face (HP:0000311)</a></td><td>4</td></tr>\n",
       "<tr><td><a href=\"https://hpo.jax.org/app/browse/term/HP:0004322\">Short stature (HP:0004322)</a></td><td>4</td></tr>\n",
       "<tr><td><a href=\"https://hpo.jax.org/app/browse/term/HP:0000750\">Delayed speech and language development (HP:0000750)</a></td><td>4</td></tr>\n",
       "<tr><td><a href=\"https://hpo.jax.org/app/browse/term/HP:0001250\">Seizure (HP:0001250)</a></td><td>4</td></tr>\n",
       "<tr><td><a href=\"https://hpo.jax.org/app/browse/term/HP:0000426\">Prominent nasal bridge (HP:0000426)</a></td><td>4</td></tr>\n",
       "<tr><td><a href=\"https://hpo.jax.org/app/browse/term/HP:0002188\">Delayed CNS myelination (HP:0002188)</a></td><td>3</td></tr>\n",
       "<tr><td><a href=\"https://hpo.jax.org/app/browse/term/HP:0001513\">Obesity (HP:0001513)</a></td><td>3</td></tr>\n",
       "<tr><td><a href=\"https://hpo.jax.org/app/browse/term/HP:0002505\">Loss of ambulation (HP:0002505)</a></td><td>3</td></tr>\n",
       "<tr><td><a href=\"https://hpo.jax.org/app/browse/term/HP:0002650\">Scoliosis (HP:0002650)</a></td><td>3</td></tr>\n",
       "<tr><td><a href=\"https://hpo.jax.org/app/browse/term/HP:0025336\">Delayed ability to sit (HP:0025336)</a></td><td>3</td></tr>\n",
       "<tr><td><a href=\"https://hpo.jax.org/app/browse/term/HP:0001256\">Intellectual disability, mild (HP:0001256)</a></td><td>3</td></tr>\n",
       "<tr><td><a href=\"https://hpo.jax.org/app/browse/term/HP:0034295\">Reduced cerebral white matter volume (HP:0034295)</a></td><td>3</td></tr>\n",
       "<tr><td><a href=\"https://hpo.jax.org/app/browse/term/HP:0032989\">Delayed ability to roll over (HP:0032989)</a></td><td>2</td></tr>\n",
       "<tr><td><a href=\"https://hpo.jax.org/app/browse/term/HP:0000826\">Precocious puberty (HP:0000826)</a></td><td>2</td></tr>\n",
       "<tr><td><a href=\"https://hpo.jax.org/app/browse/term/HP:0000574\">Thick eyebrow (HP:0000574)</a></td><td>2</td></tr>\n",
       "<tr><td><a href=\"https://hpo.jax.org/app/browse/term/HP:0000463\">Anteverted nares (HP:0000463)</a></td><td>2</td></tr>\n",
       "<tr><td><a href=\"https://hpo.jax.org/app/browse/term/HP:0000322\">Short philtrum (HP:0000322)</a></td><td>2</td></tr>\n",
       "<tr><td><a href=\"https://hpo.jax.org/app/browse/term/HP:0100704\">Cerebral visual impairment (HP:0100704)</a></td><td>2</td></tr>\n",
       "<tr><td><a href=\"https://hpo.jax.org/app/browse/term/HP:0012650\">Perisylvian polymicrogyria (HP:0012650)</a></td><td>2</td></tr>\n",
       "<tr><td><a href=\"https://hpo.jax.org/app/browse/term/HP:0032988\">Persistent head lag (HP:0032988)</a></td><td>2</td></tr>\n",
       "<tr><td><a href=\"https://hpo.jax.org/app/browse/term/HP:0000729\">Autistic behavior (HP:0000729)</a></td><td>2</td></tr>\n",
       "<tr><td><a href=\"https://hpo.jax.org/app/browse/term/HP:0008947\">Infantile muscular hypotonia (HP:0008947)</a></td><td>2</td></tr>\n",
       "<tr><td><a href=\"https://hpo.jax.org/app/browse/term/HP:0001344\">Absent speech (HP:0001344)</a></td><td>2</td></tr>\n",
       "<tr><td><a href=\"https://hpo.jax.org/app/browse/term/HP:0001251\">Ataxia (HP:0001251)</a></td><td>2</td></tr>\n",
       "<tr><td><a href=\"https://hpo.jax.org/app/browse/term/HP:0000717\">Autism (HP:0000717)</a></td><td>2</td></tr>\n",
       "<tr><td><a href=\"https://hpo.jax.org/app/browse/term/HP:0100021\">Cerebral palsy (HP:0100021)</a></td><td>2</td></tr>\n",
       "<tr><td><a href=\"https://hpo.jax.org/app/browse/term/HP:0006970\">Periventricular leukomalacia (HP:0006970)</a></td><td>2</td></tr>\n",
       "<tr><td><a href=\"https://hpo.jax.org/app/browse/term/HP:0001257\">Spasticity (HP:0001257)</a></td><td>2</td></tr>\n",
       "</table>\n",
       "<p>Additionally, the following terms were observed 1 or fewer times:</p>\n",
       "<p><a href=\"https://hpo.jax.org/app/browse/term/HP:0000582\">Upslanted palpebral fissure (HP:0000582)</a>; <a href=\"https://hpo.jax.org/app/browse/term/HP:0200055\">Small hand (HP:0200055)</a>; <a href=\"https://hpo.jax.org/app/browse/term/HP:0002365\">Hypoplasia of the brainstem (HP:0002365)</a>; <a href=\"https://hpo.jax.org/app/browse/term/HP:0000486\">Strabismus (HP:0000486)</a>; <a href=\"https://hpo.jax.org/app/browse/term/HP:0002808\">Kyphosis (HP:0002808)</a>; <a href=\"https://hpo.jax.org/app/browse/term/HP:0000664\">Synophrys (HP:0000664)</a>; <a href=\"https://hpo.jax.org/app/browse/term/HP:0002187\">Intellectual disability, profound (HP:0002187)</a>; <a href=\"https://hpo.jax.org/app/browse/term/HP:0000252\">Microcephaly (HP:0000252)</a>; <a href=\"https://hpo.jax.org/app/browse/term/HP:0500041\">Myopic astigmatism (HP:0500041)</a>; <a href=\"https://hpo.jax.org/app/browse/term/HP:0034183\">Spastic triplegia (HP:0034183)</a>; <a href=\"https://hpo.jax.org/app/browse/term/HP:0001249\">Intellectual disability (HP:0001249)</a>; <a href=\"https://hpo.jax.org/app/browse/term/HP:0002317\">Unsteady gait (HP:0002317)</a>; <a href=\"https://hpo.jax.org/app/browse/term/HP:0002020\">Gastroesophageal reflux (HP:0002020)</a>; <a href=\"https://hpo.jax.org/app/browse/term/HP:0006989\">Dysplastic corpus callosum (HP:0006989)</a>; <a href=\"https://hpo.jax.org/app/browse/term/HP:0006956\">Lateral ventricle dilatation (HP:0006956)</a>; <a href=\"https://hpo.jax.org/app/browse/term/HP:0045025\">Narrow palpebral fissure (HP:0045025)</a>; <a href=\"https://hpo.jax.org/app/browse/term/HP:0000160\">Narrow mouth (HP:0000160)</a>; <a href=\"https://hpo.jax.org/app/browse/term/HP:0002240\">Hepatomegaly (HP:0002240)</a>; <a href=\"https://hpo.jax.org/app/browse/term/HP:0000365\">Hearing impairment (HP:0000365)</a>; <a href=\"https://hpo.jax.org/app/browse/term/HP:0000316\">Hypertelorism (HP:0000316)</a>; <a href=\"https://hpo.jax.org/app/browse/term/HP:0012498\">Nuchal cord (HP:0012498)</a>; <a href=\"https://hpo.jax.org/app/browse/term/HP:0002857\">Genu valgum (HP:0002857)</a>; <a href=\"https://hpo.jax.org/app/browse/term/HP:0001258\">Spastic paraplegia (HP:0001258)</a>; <a href=\"https://hpo.jax.org/app/browse/term/HP:0040183\">Encopresis (HP:0040183)</a>; <a href=\"https://hpo.jax.org/app/browse/term/HP:0000343\">Long philtrum (HP:0000343)</a>; <a href=\"https://hpo.jax.org/app/browse/term/HP:0006872\">Cerebral hypoplasia (HP:0006872)</a>; <a href=\"https://hpo.jax.org/app/browse/term/HP:0001956\">Truncal obesity (HP:0001956)</a>; <a href=\"https://hpo.jax.org/app/browse/term/HP:0007301\">Oromotor apraxia (HP:0007301)</a>; <a href=\"https://hpo.jax.org/app/browse/term/HP:0000276\">Long face (HP:0000276)</a>; <a href=\"https://hpo.jax.org/app/browse/term/HP:0011856\">Pica (HP:0011856)</a>; <a href=\"https://hpo.jax.org/app/browse/term/HP:0002370\">Poor coordination (HP:0002370)</a>; <a href=\"https://hpo.jax.org/app/browse/term/HP:0002493\">Upper motor neuron dysfunction (HP:0002493)</a>; <a href=\"https://hpo.jax.org/app/browse/term/HP:0000668\">Hypodontia (HP:0000668)</a>; <a href=\"https://hpo.jax.org/app/browse/term/HP:0007340\">Lower limb muscle weakness (HP:0007340)</a>; <a href=\"https://hpo.jax.org/app/browse/term/HP:0001238\">Slender finger (HP:0001238)</a>; <a href=\"https://hpo.jax.org/app/browse/term/HP:0001272\">Cerebellar atrophy (HP:0001272)</a>; <a href=\"https://hpo.jax.org/app/browse/term/HP:0000691\">Microdontia (HP:0000691)</a>; <a href=\"https://hpo.jax.org/app/browse/term/HP:0003429\">CNS hypomyelination (HP:0003429)</a>; <a href=\"https://hpo.jax.org/app/browse/term/HP:0001321\">Cerebellar hypoplasia (HP:0001321)</a>; <a href=\"https://hpo.jax.org/app/browse/term/HP:0002126\">Polymicrogyria (HP:0002126)</a>; <a href=\"https://hpo.jax.org/app/browse/term/HP:0003396\">Syringomyelia (HP:0003396)</a>; <a href=\"https://hpo.jax.org/app/browse/term/HP:0002194\">Delayed gross motor development (HP:0002194)</a>; <a href=\"https://hpo.jax.org/app/browse/term/HP:0000712\">Emotional lability (HP:0000712)</a>; <a href=\"https://hpo.jax.org/app/browse/term/HP:0040019\">Finger clinodactyly (HP:0040019)</a>; <a href=\"https://hpo.jax.org/app/browse/term/HP:0012110\">Hypoplasia of the pons (HP:0012110)</a>; <a href=\"https://hpo.jax.org/app/browse/term/HP:0003307\">Hyperlordosis (HP:0003307)</a>; <a href=\"https://hpo.jax.org/app/browse/term/HP:0000218\">High palate (HP:0000218)</a>; <a href=\"https://hpo.jax.org/app/browse/term/HP:0000411\">Protruding ear (HP:0000411)</a>; <a href=\"https://hpo.jax.org/app/browse/term/HP:0002333\">Motor deterioration (HP:0002333)</a>; <a href=\"https://hpo.jax.org/app/browse/term/HP:0000293\">Full cheeks (HP:0000293)</a>.</p>"
      ],
      "text/plain": [
       "<IPython.core.display.HTML object>"
      ]
     },
     "metadata": {},
     "output_type": "display_data"
    }
   ],
   "source": [
    "display(HTML(viewer.hpo_term_counts_table(cohort=cohort, min_count=2)))"
   ]
  },
  {
   "cell_type": "code",
   "execution_count": 7,
   "id": "aaf0128c-319c-46df-a510-e69516d7035e",
   "metadata": {},
   "outputs": [
    {
     "name": "stdout",
     "output_type": "stream",
     "text": [
      "[WARN] could not identify a single variant for target transcript (got 0), variant 1_2408780_2408780_C_T\n"
     ]
    },
    {
     "data": {
      "text/html": [
       "<style>\n",
       "\n",
       "table {\n",
       "  border-collapse: collapse; \n",
       "  margin: 25px 0;\n",
       "    font-size: 0.9em;\n",
       "    font-family: sans-serif;\n",
       "    min-width: 400px;\n",
       "    box-shadow: 0 0 20px rgba(0, 0, 0, 0.15);\n",
       "}\n",
       "\n",
       "\n",
       "th {\n",
       "  background-color: #f2f2f2; \n",
       "  border: 1px solid #dddddd; \n",
       "  text-align: left;\n",
       "  padding: 2px;\n",
       "}\n",
       "\n",
       "tr {\n",
       "  border: 1px solid #dddddd; \n",
       "}\n",
       "\n",
       "td {\n",
       "  padding: 2px; \n",
       "  font-weight: bold;\n",
       "}\n",
       "\n",
       "tr:nth-child(even) {\n",
       "  background-color: #f2f2f2;\n",
       "}\n",
       "</style>\n",
       "\n",
       "<table>\n",
       "<tr><td>Variant</td><td>Effect</td><td>Count</td><td>Key</td></tr>\n",
       "<tr><td>c.1735C>T</td><td>MISSENSE_VARIANT</td><td>6</td><td>16_1762843_1762843_C_T</td></tr>\n",
       "<tr><td>c.3439C>T</td><td>MISSENSE_VARIANT</td><td>4</td><td>16_1767834_1767834_C_T</td></tr>\n",
       "<tr><td>c.1334T>C</td><td>MISSENSE_VARIANT</td><td>2</td><td>16_1760409_1760409_T_C</td></tr>\n",
       "</table>\n",
       "<p>Additionally, the following variants were observed 1 or fewer times: \n",
       "c.2985C>G; c.79G>T; c.65del; c.45C>G; c.1201G>A; 1_2408780_2408780_C_T; c.1577G>A.</p>\n",
       "<p>Use the entry in the \"Key\" column to investigate whether specific variants display genotype-phenotype correlations</p>"
      ],
      "text/plain": [
       "<IPython.core.display.HTML object>"
      ]
     },
     "metadata": {},
     "output_type": "display_data"
    }
   ],
   "source": [
    "display(HTML(viewer.variants_table(cohort=cohort, preferred_transcript=\"NM_001318852.2\", min_count=2)))"
   ]
  },
  {
   "cell_type": "markdown",
   "id": "9d732e6f",
   "metadata": {},
   "source": [
    "## Configure the analysis"
   ]
  },
  {
   "cell_type": "code",
   "execution_count": 8,
   "id": "c4567056",
   "metadata": {},
   "outputs": [],
   "source": [
    "\n",
    "from genophenocorr.analysis import configure_cohort_analysis\n",
    "\n",
    "analysis = configure_cohort_analysis(cohort, hpo)\n"
   ]
  },
  {
   "cell_type": "markdown",
   "id": "9ac309bf",
   "metadata": {},
   "source": [
    "## Correlation analysis for c.1735C>T\n",
    "\n",
    "`NM_001318852.2:c.1735C>T` is the most commonly encountered variant in our cohort. In the following code, we investigate whether this variant displays significant genotype-phenotype correlations.\n",
    "\n",
    "For the purpose of the analysis, the variant is denoted by its key: `16_1762843_1762843_C_T`."
   ]
  },
  {
   "cell_type": "markdown",
   "id": "9648c701",
   "metadata": {},
   "source": [
    "Let's run the analysis and summarize the results."
   ]
  },
  {
   "cell_type": "code",
   "execution_count": 9,
   "id": "8e46c391",
   "metadata": {},
   "outputs": [
    {
     "data": {
      "text/html": [
       "<div>\n",
       "<style scoped>\n",
       "    .dataframe tbody tr th:only-of-type {\n",
       "        vertical-align: middle;\n",
       "    }\n",
       "\n",
       "    .dataframe tbody tr th {\n",
       "        vertical-align: top;\n",
       "    }\n",
       "\n",
       "    .dataframe thead tr th {\n",
       "        text-align: left;\n",
       "    }\n",
       "</style>\n",
       "<table border=\"1\" class=\"dataframe\">\n",
       "  <thead>\n",
       "    <tr>\n",
       "      <th>&gt;=1 allele of the variant 16_1762843_1762843_C_T</th>\n",
       "      <th colspan=\"2\" halign=\"left\">Yes</th>\n",
       "      <th colspan=\"2\" halign=\"left\">No</th>\n",
       "      <th colspan=\"2\" halign=\"left\"></th>\n",
       "    </tr>\n",
       "    <tr>\n",
       "      <th></th>\n",
       "      <th>Count</th>\n",
       "      <th>Percent</th>\n",
       "      <th>Count</th>\n",
       "      <th>Percent</th>\n",
       "      <th>p value</th>\n",
       "      <th>Corrected p value</th>\n",
       "    </tr>\n",
       "  </thead>\n",
       "  <tbody>\n",
       "    <tr>\n",
       "      <th>Inability to walk [HP:0002540]</th>\n",
       "      <td>3/3</td>\n",
       "      <td>100%</td>\n",
       "      <td>0/6</td>\n",
       "      <td>0%</td>\n",
       "      <td>0.011905</td>\n",
       "      <td>1.0</td>\n",
       "    </tr>\n",
       "    <tr>\n",
       "      <th>Loss of ambulation [HP:0002505]</th>\n",
       "      <td>3/3</td>\n",
       "      <td>100%</td>\n",
       "      <td>0/6</td>\n",
       "      <td>0%</td>\n",
       "      <td>0.011905</td>\n",
       "      <td>1.0</td>\n",
       "    </tr>\n",
       "    <tr>\n",
       "      <th>Gait disturbance [HP:0001288]</th>\n",
       "      <td>3/3</td>\n",
       "      <td>100%</td>\n",
       "      <td>1/6</td>\n",
       "      <td>17%</td>\n",
       "      <td>0.047619</td>\n",
       "      <td>1.0</td>\n",
       "    </tr>\n",
       "    <tr>\n",
       "      <th>Abnormality of movement [HP:0100022]</th>\n",
       "      <td>4/4</td>\n",
       "      <td>100%</td>\n",
       "      <td>3/8</td>\n",
       "      <td>38%</td>\n",
       "      <td>0.080808</td>\n",
       "      <td>1.0</td>\n",
       "    </tr>\n",
       "    <tr>\n",
       "      <th>Seizure [HP:0001250]</th>\n",
       "      <td>2/2</td>\n",
       "      <td>100%</td>\n",
       "      <td>2/10</td>\n",
       "      <td>20%</td>\n",
       "      <td>0.090909</td>\n",
       "      <td>1.0</td>\n",
       "    </tr>\n",
       "    <tr>\n",
       "      <th>...</th>\n",
       "      <td>...</td>\n",
       "      <td>...</td>\n",
       "      <td>...</td>\n",
       "      <td>...</td>\n",
       "      <td>...</td>\n",
       "      <td>...</td>\n",
       "    </tr>\n",
       "    <tr>\n",
       "      <th>Hypertelorism [HP:0000316]</th>\n",
       "      <td>0/0</td>\n",
       "      <td>0%</td>\n",
       "      <td>1/1</td>\n",
       "      <td>100%</td>\n",
       "      <td>1.000000</td>\n",
       "      <td>1.0</td>\n",
       "    </tr>\n",
       "    <tr>\n",
       "      <th>Aplasia/Hypoplasia of the brainstem [HP:0007362]</th>\n",
       "      <td>1/1</td>\n",
       "      <td>100%</td>\n",
       "      <td>0/0</td>\n",
       "      <td>0%</td>\n",
       "      <td>1.000000</td>\n",
       "      <td>1.0</td>\n",
       "    </tr>\n",
       "    <tr>\n",
       "      <th>Hearing impairment [HP:0000365]</th>\n",
       "      <td>0/0</td>\n",
       "      <td>0%</td>\n",
       "      <td>1/1</td>\n",
       "      <td>100%</td>\n",
       "      <td>1.000000</td>\n",
       "      <td>1.0</td>\n",
       "    </tr>\n",
       "    <tr>\n",
       "      <th>Narrow mouth [HP:0000160]</th>\n",
       "      <td>0/0</td>\n",
       "      <td>0%</td>\n",
       "      <td>1/1</td>\n",
       "      <td>100%</td>\n",
       "      <td>1.000000</td>\n",
       "      <td>1.0</td>\n",
       "    </tr>\n",
       "    <tr>\n",
       "      <th>Abnormal hair quantity [HP:0011362]</th>\n",
       "      <td>0/0</td>\n",
       "      <td>0%</td>\n",
       "      <td>1/1</td>\n",
       "      <td>100%</td>\n",
       "      <td>1.000000</td>\n",
       "      <td>1.0</td>\n",
       "    </tr>\n",
       "  </tbody>\n",
       "</table>\n",
       "<p>280 rows × 6 columns</p>\n",
       "</div>"
      ],
      "text/plain": [
       ">=1 allele of the variant 16_1762843_1762843_C_T   Yes            No          \\\n",
       "                                                 Count Percent Count Percent   \n",
       "Inability to walk [HP:0002540]                     3/3    100%   0/6      0%   \n",
       "Loss of ambulation [HP:0002505]                    3/3    100%   0/6      0%   \n",
       "Gait disturbance [HP:0001288]                      3/3    100%   1/6     17%   \n",
       "Abnormality of movement [HP:0100022]               4/4    100%   3/8     38%   \n",
       "Seizure [HP:0001250]                               2/2    100%  2/10     20%   \n",
       "...                                                ...     ...   ...     ...   \n",
       "Hypertelorism [HP:0000316]                         0/0      0%   1/1    100%   \n",
       "Aplasia/Hypoplasia of the brainstem [HP:0007362]   1/1    100%   0/0      0%   \n",
       "Hearing impairment [HP:0000365]                    0/0      0%   1/1    100%   \n",
       "Narrow mouth [HP:0000160]                          0/0      0%   1/1    100%   \n",
       "Abnormal hair quantity [HP:0011362]                0/0      0%   1/1    100%   \n",
       "\n",
       ">=1 allele of the variant 16_1762843_1762843_C_T                              \n",
       "                                                   p value Corrected p value  \n",
       "Inability to walk [HP:0002540]                    0.011905               1.0  \n",
       "Loss of ambulation [HP:0002505]                   0.011905               1.0  \n",
       "Gait disturbance [HP:0001288]                     0.047619               1.0  \n",
       "Abnormality of movement [HP:0100022]              0.080808               1.0  \n",
       "Seizure [HP:0001250]                              0.090909               1.0  \n",
       "...                                                    ...               ...  \n",
       "Hypertelorism [HP:0000316]                        1.000000               1.0  \n",
       "Aplasia/Hypoplasia of the brainstem [HP:0007362]  1.000000               1.0  \n",
       "Hearing impairment [HP:0000365]                   1.000000               1.0  \n",
       "Narrow mouth [HP:0000160]                         1.000000               1.0  \n",
       "Abnormal hair quantity [HP:0011362]               1.000000               1.0  \n",
       "\n",
       "[280 rows x 6 columns]"
      ]
     },
     "execution_count": 9,
     "metadata": {},
     "output_type": "execute_result"
    }
   ],
   "source": [
    "from genophenocorr.analysis.predicate import PatientCategories\n",
    "\n",
    "variant_key = '16_1762843_1762843_C_T'\n",
    "\n",
    "by_variant = analysis.compare_by_variant_key(variant_key=variant_key)\n",
    "by_variant.summarize(hpo, PatientCategories.YES)"
   ]
  },
  {
   "cell_type": "markdown",
   "id": "4045f858",
   "metadata": {},
   "source": [
    "TODO - finalize!"
   ]
  }
 ],
 "metadata": {
  "kernelspec": {
   "display_name": "exploratory",
   "language": "python",
   "name": "python3"
  },
  "language_info": {
   "codemirror_mode": {
    "name": "ipython",
    "version": 3
   },
   "file_extension": ".py",
   "mimetype": "text/x-python",
   "name": "python",
   "nbconvert_exporter": "python",
   "pygments_lexer": "ipython3",
   "version": "3.10.12"
  }
 },
 "nbformat": 4,
 "nbformat_minor": 5
}
